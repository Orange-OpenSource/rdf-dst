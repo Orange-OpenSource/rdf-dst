{
 "cells": [
  {
   "cell_type": "code",
   "execution_count": 13,
   "id": "0338d6e5-6681-4d6e-81bf-bf11a080b01a",
   "metadata": {},
   "outputs": [
    {
     "name": "stdout",
     "output_type": "stream",
     "text": [
      "long-t5-tglobal_1_emissions_.csv\n",
      "new_lr_tglobal_emissions.csv\n",
      "old-long-t5-1-emissions.csv\n",
      "real_eval_base_2_basefull_emissions.csv\n",
      "real_eval_base_2_baseia3_emissions.csv\n",
      "real_eval_base_2_baselora_emissions.csv\n",
      "real_eval_base_2_baseprefix_emissions.csv\n",
      "train_base_2_basefull_emissions.csv\n",
      "train_base_2_baseia3_emissions.csv\n",
      "train_base_2_baselora_emissions.csv\n",
      "train_base_2_baseprefix_emissions.csv\n"
     ]
    }
   ],
   "source": [
    "# Copyright (c) 2023 Orange\n",
    "\n",
    "# Permission is hereby granted, free of charge, to any person obtaining a copy of this software\n",
    "# and associated documentation files (the \"Software\"), to deal in the Software without restriction,\n",
    "# including without limitation the rights to use, copy, modify, merge, publish, distribute,\n",
    "# sublicense, and/or sell copies of the Software, and to permit persons to whom the Software is\n",
    "# furnished to do so, subject to the following conditions:\n",
    "\n",
    "# THE SOFTWARE IS PROVIDED \"AS IS\", WITHOUT WARRANTY OF ANY KIND, EXPRESS OR IMPLIED, INCLUDING\n",
    "# BUT NOT LIMITEDTOTHE WARRANTIES OF MERCHANTABILITY, FITNESS FOR A PARTICULAR PURPOSE AND\n",
    "# NONINFRINGEMENT. IN NO EVENT SHALL THE AUTHORS OR COPYRIGHT HOLDERS BE LIABLE FOR ANY CLAIM,\n",
    "# DAMAGES OR OTHER LIABILITY, WHETHER IN AN ACTION OF CONTRACT, TORT OR OTHERWISE, ARISING FROM,\n",
    "# OUT OF OR IN CONNECTION WITH THE SOFTWARE OR THE USE OR OTHER DEALINGS IN THE SOFTWARE.\n",
    "#\n",
    "# Software Name : knowledge-graph-dst\n",
    "# Version: 1.0.0\n",
    "# SPDX-FileCopyrightText: Copyright (c) 2023 Orange\n",
    "# SPDX-License-Identifier: MIT\n",
    "# This software is distributed under the MIT,\n",
    "# the text of which is available at https://opensource.org/licenses/MIT\n",
    "# or see the \"LICENSE\" file for more details.\n",
    "# Author: H. Andres Gonzalez\n",
    "!ls | grep csv"
   ]
  },
  {
   "cell_type": "code",
   "execution_count": 2,
   "id": "6b79dd6d-2807-4be2-8ba7-6e6c750c4005",
   "metadata": {},
   "outputs": [],
   "source": [
    "import pandas as pd"
   ]
  },
  {
   "cell_type": "code",
   "execution_count": 4,
   "id": "14d68b23-2d71-4aa8-8448-394c508ac57f",
   "metadata": {},
   "outputs": [],
   "source": [
    "t5_base = pd.read_csv(\"train_base_2_basefull_emissions.csv\")\n",
    "old_long_t5 = pd.read_csv(\"old-long-t5-1-emissions.csv\")\n",
    "long_t5 = pd.read_csv(\"long-t5-tglobal_1_emissions_.csv\")"
   ]
  },
  {
   "cell_type": "code",
   "execution_count": 10,
   "id": "4dc54c45-31ce-4d0e-ada9-cfe54e590b2d",
   "metadata": {},
   "outputs": [
    {
     "data": {
      "text/plain": [
       "Index(['timestamp', 'project_name', 'run_id', 'duration', 'emissions',\n",
       "       'emissions_rate', 'cpu_power', 'gpu_power', 'ram_power', 'cpu_energy',\n",
       "       'gpu_energy', 'ram_energy', 'energy_consumed', 'country_name',\n",
       "       'country_iso_code', 'region', 'cloud_provider', 'cloud_region', 'os',\n",
       "       'python_version', 'codecarbon_version', 'cpu_count', 'cpu_model',\n",
       "       'gpu_count', 'gpu_model', 'longitude', 'latitude', 'ram_total_size',\n",
       "       'tracking_mode', 'on_cloud', 'pue'],\n",
       "      dtype='object')"
      ]
     },
     "execution_count": 10,
     "metadata": {},
     "output_type": "execute_result"
    }
   ],
   "source": [
    "long_t5.columns"
   ]
  },
  {
   "cell_type": "code",
   "execution_count": 16,
   "id": "9e0abe98-ffc8-4a57-ab70-69a28cd0986d",
   "metadata": {},
   "outputs": [
    {
     "data": {
      "text/plain": [
       "0    1 x NVIDIA A100-PCIE-40GB\n",
       "1    1 x NVIDIA A100-PCIE-40GB\n",
       "Name: gpu_model, dtype: object"
      ]
     },
     "execution_count": 16,
     "metadata": {},
     "output_type": "execute_result"
    }
   ],
   "source": [
    "long_t5.gpu_model"
   ]
  },
  {
   "cell_type": "code",
   "execution_count": 17,
   "id": "33594ddd-6b09-40ba-84c3-4cb9a1781d09",
   "metadata": {},
   "outputs": [
    {
     "data": {
      "text/plain": [
       "0    1 x NVIDIA A100-SXM4-80GB\n",
       "1    1 x NVIDIA A100-SXM4-80GB\n",
       "2    1 x NVIDIA A100-SXM4-80GB\n",
       "Name: gpu_model, dtype: object"
      ]
     },
     "execution_count": 17,
     "metadata": {},
     "output_type": "execute_result"
    }
   ],
   "source": [
    "old_long_t5.gpu_model"
   ]
  },
  {
   "cell_type": "code",
   "execution_count": 18,
   "id": "bb6f1c7b-1d2e-4bfb-bc38-0f7af98c2cf7",
   "metadata": {},
   "outputs": [
    {
     "data": {
      "text/plain": [
       "0    4 x NVIDIA GeForce RTX 3090\n",
       "1    4 x NVIDIA GeForce RTX 3090\n",
       "2    4 x NVIDIA GeForce RTX 3090\n",
       "3    4 x NVIDIA GeForce RTX 3090\n",
       "4    4 x NVIDIA GeForce RTX 3090\n",
       "Name: gpu_model, dtype: object"
      ]
     },
     "execution_count": 18,
     "metadata": {},
     "output_type": "execute_result"
    }
   ],
   "source": [
    "t5_base.gpu_model"
   ]
  },
  {
   "cell_type": "code",
   "execution_count": null,
   "id": "20581a4a-6c74-487d-91c6-2934a3f4af64",
   "metadata": {},
   "outputs": [],
   "source": []
  }
 ],
 "metadata": {
  "kernelspec": {
   "display_name": "Python 3 (ipykernel)",
   "language": "python",
   "name": "python3"
  },
  "language_info": {
   "codemirror_mode": {
    "name": "ipython",
    "version": 3
   },
   "file_extension": ".py",
   "mimetype": "text/x-python",
   "name": "python",
   "nbconvert_exporter": "python",
   "pygments_lexer": "ipython3",
   "version": "3.10.12"
  }
 },
 "nbformat": 4,
 "nbformat_minor": 5
}
